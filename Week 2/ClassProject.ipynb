{
 "cells": [
  {
   "cell_type": "code",
   "execution_count": 6,
   "id": "fdc854ab",
   "metadata": {},
   "outputs": [
    {
     "name": "stdout",
     "output_type": "stream",
     "text": [
      "This is a simple interest calulator\n",
      "What is your principal?100\n",
      "What is your rate?1\n",
      "What is your time?1\n",
      "Your New Principal is  101.0\n"
     ]
    }
   ],
   "source": [
    "print('This is a simple interest calulator')\n",
    "principal = int(input(\"What is your principal?\"))\n",
    "rate = int(input(\"What is your rate?\"))\n",
    "time = int(input(\"What is your time?\"))\n",
    "\n",
    "annual = principal * (1 + (rate/100)*time)\n",
    "\n",
    "print(\"Your New Principal is \", annual)"
   ]
  },
  {
   "cell_type": "code",
   "execution_count": 9,
   "id": "26a92fc4",
   "metadata": {},
   "outputs": [
    {
     "name": "stdout",
     "output_type": "stream",
     "text": [
      "This is a compound interest calulator\n",
      "What is your principal?100\n",
      "What is your rate?1\n",
      "What is your time?1\n",
      "Number of times compounded in a year?1\n",
      "Your New Principal is  200.0\n"
     ]
    }
   ],
   "source": [
    "print('This is a compound interest calulator')\n",
    "principal = int(input(\"What is your principal?\"))\n",
    "rate = int(input(\"What is your rate?\"))\n",
    "time = int(input(\"What is your time?\"))\n",
    "numb = int(input(\"Number of times compounded in a year?\"))\n",
    "\n",
    "annual = principal * (1 + (rate/numb)**(numb*time))\n",
    "\n",
    "print(\"Your New Principal is \", annual)"
   ]
  },
  {
   "cell_type": "code",
   "execution_count": 11,
   "id": "424af564",
   "metadata": {},
   "outputs": [
    {
     "name": "stdout",
     "output_type": "stream",
     "text": [
      "This is an annuity plan calulator\n",
      "Amount of each annuity payment?100000\n",
      "What is your rate?1\n",
      "Number of times compounded in a year?1\n",
      "Your New Principal is  100000.0\n"
     ]
    }
   ],
   "source": [
    "print('This is an annuity plan calulator')\n",
    "principal = int(input(\"Amount of each annuity payment?\"))\n",
    "rate = int(input(\"What is your rate?\"))\n",
    "numb = int(input(\"Number of times compounded in a year?\"))\n",
    "\n",
    "annual = principal * (((1 + (rate/numb)**(numb*time)) - 1) / (rate/numb))\n",
    "\n",
    "print(\"Your New Principal is \", annual)"
   ]
  },
  {
   "cell_type": "code",
   "execution_count": null,
   "id": "d8bea7ac",
   "metadata": {},
   "outputs": [],
   "source": []
  },
  {
   "cell_type": "code",
   "execution_count": null,
   "id": "5ec1dd70",
   "metadata": {},
   "outputs": [],
   "source": [
    "100"
   ]
  }
 ],
 "metadata": {
  "kernelspec": {
   "display_name": "Python 3 (ipykernel)",
   "language": "python",
   "name": "python3"
  },
  "language_info": {
   "codemirror_mode": {
    "name": "ipython",
    "version": 3
   },
   "file_extension": ".py",
   "mimetype": "text/x-python",
   "name": "python",
   "nbconvert_exporter": "python",
   "pygments_lexer": "ipython3",
   "version": "3.10.9"
  }
 },
 "nbformat": 4,
 "nbformat_minor": 5
}
