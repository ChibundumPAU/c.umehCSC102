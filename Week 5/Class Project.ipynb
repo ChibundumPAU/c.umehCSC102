{
 "cells": [
  {
   "cell_type": "code",
   "execution_count": 26,
   "id": "c2d98db5",
   "metadata": {},
   "outputs": [
    {
     "name": "stdout",
     "output_type": "stream",
     "text": [
      "                     GIRLS            \n",
      "Age      Name            Height     Scores    \n",
      "17       Lilian          5.5        49        \n",
      "16       Elizabeth       5.6        76        \n",
      "18       Mary            5.5        66        \n",
      "20       Waje            6.0        95        \n",
      "19       Taibat          5.7        50        \n",
      " \n",
      "                     BOYS            \n",
      "Age      Name            Height     Scores    \n",
      "19       Kayode          5.7        60        \n",
      "16       Kunle           6.1        87        \n",
      "18       Matthew         5.4        98        \n",
      "17       Tom             5.8        54        \n",
      "20       Biodun          5.9        66        \n"
     ]
    }
   ],
   "source": [
    "print (\"                     GIRLS            \")\n",
    "d = {17: [\"Samantha\",  5.5, '80'],\n",
    "16: [\"Jada\", 6.0, '85'],\n",
    "17: [\"Jane\", 5.4, '70'],\n",
    "18: [\"Claire\", 5.9, '60'],\n",
    "16: [\"Elizabeth\", 5.6, '76'],\n",
    "18: [\"Mary\", 5.5, '66'],\n",
    "17: [\"Susan\", 6.1, '87'],\n",
    "20: [\"Waje\", 6.0, '95'],\n",
    "19: [\"Taibat\", 5.7, '50'],\n",
    "17: [\"Lilian\", 5.5, '49']\n",
    "}\n",
    "print (\"{:<8} {:<15} {:<10} {:<10}\".format('Age','Name','Height','Scores'))\n",
    "for k, v in d.items():\n",
    "    lang, perc, change = v\n",
    "    print (\"{:<8} {:<15} {:<10} {:<10}\".format(k, lang, perc, change))\n",
    "    \n",
    "print (\" \\n                     BOYS            \")\n",
    "o = {19: [\"Charles\", 5.7, '74'],\n",
    "16: [\"Jude\", 5.9, '87'],\n",
    "18: [\"James\", 5.8, '75'],\n",
    "17: [\"Kelvin\", 6.1, '68'],\n",
    "20: [\"Biodun\", 5.9, '66'],\n",
    "19: [\"Wale\", 5.5, '66'],\n",
    "16: [\"Kunle\", 6.1, '87'],\n",
    "18: [\"Matthew\", 5.4, '98'],\n",
    "17: [\"Tom\", 5.8, '54'],\n",
    "19: [\"Kayode\", 5.7, '60']\n",
    "}\n",
    "print (\"{:<8} {:<15} {:<10} {:<10}\".format('Age','Name','Height','Scores'))\n",
    "for k, v in o.items():\n",
    "    lang, perc, change = v\n",
    "    print (\"{:<8} {:<15} {:<10} {:<10}\".format(k, lang, perc, change))"
   ]
  },
  {
   "cell_type": "code",
   "execution_count": 37,
   "id": "e87f9979",
   "metadata": {},
   "outputs": [
    {
     "name": "stdout",
     "output_type": "stream",
     "text": [
      "How many years of experience do you have?: 11\n",
      "What is your age?: 36\n",
      "Your ATR is 1,500,000\n"
     ]
    }
   ],
   "source": [
    "exp = int(input (\"How many years of experience do you have?: \"))\n",
    "if exp > 25:\n",
    "    age1 = int(input (\"What is your age?: \"))\n",
    "    if age1 >= 55:\n",
    "        print (\"Your ATR is 5,600,000\")\n",
    "    else: \n",
    "        print (\"You have no ATR\")\n",
    "    \n",
    "elif exp > 20:\n",
    "    age2 = int(input (\"What is your age?: \"))\n",
    "    if age2 >=45:\n",
    "        print (\"Your ATR is 4,480,000\")\n",
    "    else:\n",
    "        print (\"You have no ATR\")\n",
    "    \n",
    "elif exp > 10:\n",
    "    age3 = int(input (\"What is your age?: \"))\n",
    "    if age3 >= 35:\n",
    "        print (\"Your ATR is 1,500,000\")\n",
    "    else:\n",
    "        print (\"You have no ATR\")\n",
    "\n",
    "else:\n",
    "    age4 = int(input (\"What is your age?: \"))\n",
    "    if age4 <= 35:\n",
    "        print (\"Your ATR is 550,000\")\n",
    "    else:\n",
    "        print (\"You have no ATR\")"
   ]
  },
  {
   "cell_type": "code",
   "execution_count": null,
   "id": "7074486e",
   "metadata": {},
   "outputs": [],
   "source": []
  },
  {
   "cell_type": "code",
   "execution_count": null,
   "id": "693d33ef",
   "metadata": {},
   "outputs": [],
   "source": []
  }
 ],
 "metadata": {
  "kernelspec": {
   "display_name": "Python 3 (ipykernel)",
   "language": "python",
   "name": "python3"
  },
  "language_info": {
   "codemirror_mode": {
    "name": "ipython",
    "version": 3
   },
   "file_extension": ".py",
   "mimetype": "text/x-python",
   "name": "python",
   "nbconvert_exporter": "python",
   "pygments_lexer": "ipython3",
   "version": "3.10.9"
  }
 },
 "nbformat": 4,
 "nbformat_minor": 5
}
