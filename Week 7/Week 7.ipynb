{
 "cells": [
  {
   "cell_type": "code",
   "execution_count": 1,
   "id": "ba5a06ff",
   "metadata": {},
   "outputs": [
    {
     "name": "stdout",
     "output_type": "stream",
     "text": [
      "I'm the first call to user defined function!\n",
      "Again second call to the same function!\n"
     ]
    }
   ],
   "source": [
    "def printme( str ):\n",
    "    print (str);\n",
    "    return;\n",
    "\n",
    "printme(\"I'm the first call to user defined function!\");\n",
    "printme(\"Again second call to the same function!\");"
   ]
  },
  {
   "cell_type": "code",
   "execution_count": 2,
   "id": "a8869a9e",
   "metadata": {},
   "outputs": [
    {
     "name": "stdout",
     "output_type": "stream",
     "text": [
      "Values inside the function:  [10, 20, 30, [1, 2, 3, 4]]\n",
      "Values outside the function:  [10, 20, 30, [1, 2, 3, 4]]\n"
     ]
    }
   ],
   "source": [
    "def changeme( mylist ):\n",
    "    mylist.append([1,2,3,4])\n",
    "    print (\"Values inside the function: \", mylist)\n",
    "    return\n",
    "mylist = [10,20,30]\n",
    "changeme( mylist )\n",
    "print (\"Values outside the function: \", mylist)"
   ]
  },
  {
   "cell_type": "code",
   "execution_count": 3,
   "id": "c93b7871",
   "metadata": {},
   "outputs": [
    {
     "ename": "TypeError",
     "evalue": "printme() missing 1 required positional argument: 'str'",
     "output_type": "error",
     "traceback": [
      "\u001b[1;31m---------------------------------------------------------------------------\u001b[0m",
      "\u001b[1;31mTypeError\u001b[0m                                 Traceback (most recent call last)",
      "Cell \u001b[1;32mIn[3], line 4\u001b[0m\n\u001b[0;32m      2\u001b[0m     \u001b[38;5;28mprint\u001b[39m (\u001b[38;5;28mstr\u001b[39m);\n\u001b[0;32m      3\u001b[0m     \u001b[38;5;28;01mreturn\u001b[39;00m;\n\u001b[1;32m----> 4\u001b[0m \u001b[43mprintme\u001b[49m\u001b[43m(\u001b[49m\u001b[43m)\u001b[49m\n",
      "\u001b[1;31mTypeError\u001b[0m: printme() missing 1 required positional argument: 'str'"
     ]
    }
   ],
   "source": [
    "def printme( str ):\n",
    "    print (str);\n",
    "    return;\n",
    "printme();"
   ]
  },
  {
   "cell_type": "code",
   "execution_count": 4,
   "id": "5332e8c3",
   "metadata": {},
   "outputs": [
    {
     "name": "stdout",
     "output_type": "stream",
     "text": [
      "My string\n"
     ]
    }
   ],
   "source": [
    "def printme( str ):\n",
    "    print (str);\n",
    "    return;\n",
    "printme(str = 'My string');"
   ]
  },
  {
   "cell_type": "code",
   "execution_count": 5,
   "id": "6a8c3e8c",
   "metadata": {},
   "outputs": [
    {
     "name": "stdout",
     "output_type": "stream",
     "text": [
      "Name:  miki\n",
      "Age:  50\n"
     ]
    }
   ],
   "source": [
    "def printinfo ( name, age):\n",
    "    print (\"Name: \", name);\n",
    "    print (\"Age: \", age);\n",
    "    return;\n",
    "printinfo( age = 50, name = \"miki\");\n"
   ]
  },
  {
   "cell_type": "code",
   "execution_count": 7,
   "id": "197b3381",
   "metadata": {},
   "outputs": [
    {
     "name": "stdout",
     "output_type": "stream",
     "text": [
      "Name:  miki\n",
      "Age:  50\n",
      "Name:  miki\n",
      "Age:  35\n"
     ]
    }
   ],
   "source": [
    "def printinfo ( name, age= 35):\n",
    "    print (\"Name: \", name);\n",
    "    print (\"Age: \", age);\n",
    "    return;\n",
    "printinfo( age = 50, name = \"miki\");\n",
    "printinfo( name =\"miki\");"
   ]
  },
  {
   "cell_type": "code",
   "execution_count": 8,
   "id": "858247a6",
   "metadata": {
    "scrolled": true
   },
   "outputs": [
    {
     "name": "stdout",
     "output_type": "stream",
     "text": [
      "Output is: \n",
      "10\n",
      "Output is: \n",
      "70\n",
      "60\n"
     ]
    }
   ],
   "source": [
    "def printinfo ( arg1, *vartuple ):\n",
    "    print (\"Output is: \")\n",
    "    print (arg1)\n",
    "    for var in vartuple:\n",
    "        print (var)\n",
    "        return;\n",
    "printinfo( 10 );\n",
    "printinfo( 70, 60, 50);\n"
   ]
  },
  {
   "cell_type": "code",
   "execution_count": 9,
   "id": "2abd1af7",
   "metadata": {},
   "outputs": [
    {
     "name": "stdout",
     "output_type": "stream",
     "text": [
      "Inside the function local total :  30\n",
      "Outside the function global total :  50\n"
     ]
    }
   ],
   "source": [
    "total = 50;\n",
    "def sum (arg1, arg2 ):\n",
    "    total = arg1 + arg2;\n",
    "    print (\"Inside the function local total : \", total)\n",
    "    return total;\n",
    "sum( 10, 20);\n",
    "print (\"Outside the function global total : \", total)"
   ]
  },
  {
   "cell_type": "code",
   "execution_count": 10,
   "id": "0b9713ef",
   "metadata": {},
   "outputs": [
    {
     "name": "stdout",
     "output_type": "stream",
     "text": [
      "Lawal Edward Tolu Tina\n",
      "Mary\n"
     ]
    }
   ],
   "source": [
    "def swap(x , y):\n",
    "    global a\n",
    "    a = \"Lawal\"\n",
    "    x,y = y,x\n",
    "    b = \"Chris\"\n",
    "    b = \"Edward\"\n",
    "    c = \"Lola\"\n",
    "    print(a,b,x,y)\n",
    "    a = \"Mary\"\n",
    "swap(\"Tina\",\"Tolu\")\n",
    "print (a)"
   ]
  },
  {
   "cell_type": "code",
   "execution_count": 31,
   "id": "47377a27",
   "metadata": {},
   "outputs": [
    {
     "ename": "SyntaxError",
     "evalue": "expected ':' (2007386119.py, line 16)",
     "output_type": "error",
     "traceback": [
      "\u001b[1;36m  Cell \u001b[1;32mIn[31], line 16\u001b[1;36m\u001b[0m\n\u001b[1;33m    elif sname == 'Adewumi'\u001b[0m\n\u001b[1;37m                           ^\u001b[0m\n\u001b[1;31mSyntaxError\u001b[0m\u001b[1;31m:\u001b[0m expected ':'\n"
     ]
    }
   ],
   "source": [
    "import pandas as pd\n",
    " \n",
    "df = pd.read_csv(r\"C:\\Users\\Chib\\OneDrive\\Documents\\c.umehCSC102\\Week 7\\jt-ventures.csv\")\n",
    "\n",
    "def check (sname, fname, dept):\n",
    "    sname = ['ADENIRAN', 'ADEWUMI', 'ADOH-AJAGBE',\n",
    "             'AGBAKURU-NWOGU', 'AGBAKWURU', 'AKINDE',\n",
    "             'ARNIKA', 'ATELLY', 'AZOGU', 'BETURE', 'CHUKWUMA',\n",
    "             'EBI', 'EGBORO', 'EJEDIMU', 'ELERI', 'EZE', 'EZEONYE',\n",
    "             'GIWA', 'ICHA', 'IKPATI', 'ILOENYOSI', 'IYAWE', 'NWOKOLO',\n",
    "             'NWOTOKUBO', 'OBASOGIE', 'OBI', 'OBIALOR', 'OGBONNA',\n",
    "             'OIGBOCHIE', 'OKOCHA-OJEAH', 'OKOLO', 'OKORO', 'OLOWOKERE',\n",
    "             'OLUBUADE', 'OSEMEKE', 'OSSAI', 'PETER', 'QUADRI',\n",
    "             'UDE-IBE', 'UMEH']\n",
    "    \n",
    "    fname = ['Oluwatamilore', 'Ayomide', 'Oshim',\n",
    "             'Chukwunonye', 'Chiemeziem', 'Oluwatimehin',\n",
    "             'Osose', 'Daniel', 'Onyekachi', 'Shalom', 'Nedi',\n",
    "             'Stephanie', 'Jason', 'Edward', 'Otu', 'Onyinyechi',\n",
    "             'Makuochukwu', 'Moyosore', 'Ayonete', 'Eche',\n",
    "             'Michael', 'Oluwadamilola', 'Chijindu', 'Joseph',\n",
    "             'Daisy', 'Samuel', 'Betha', 'Boluwatife', 'Mary',\n",
    "             'Raphael', 'Victor', 'Derek', 'Akorede', 'Rasheed',\n",
    "             'Daniel', 'Mary-Cynthia', 'Owoede', 'Oluwafikunmi',\n",
    "             'Uchenna', 'Ejike']\n",
    "    \n",
    "    dept = ['Logistics', 'Accounting', 'Delivery',\n",
    "            'Accounting', 'Logistics', 'Accounting',\n",
    "            'Logistics', 'Delivery', 'Delivery', 'Delivery',\n",
    "            'Logistics', 'Accounting', 'Administration',\n",
    "            'Delivery', 'Administration', 'Administration',\n",
    "            'Logistics', 'Logistics', 'Accounting',\n",
    "            'Accounting', 'Delivery', 'Delivery', 'Logistics',\n",
    "            'Logistics', 'Accounting', 'Accounting', 'Accounting',\n",
    "            'Delivery', 'Delivery', 'Administration', 'Administration',\n",
    "            'Logistics', 'Accounting', 'Accounting', 'Accounting',\n",
    "            'Logistics', 'Logistics', 'Delivery', 'Delivery',\n",
    "            'Administration']\n",
    "\n",
    "\n",
    "    "
   ]
  },
  {
   "cell_type": "code",
   "execution_count": 3,
   "id": "c2b9c5f5",
   "metadata": {},
   "outputs": [
    {
     "name": "stdout",
     "output_type": "stream",
     "text": [
      "What is your surname (All caps please!): UMEH\n",
      "What is your first name: Ejike\n",
      "What is your department: Logistics\n",
      "You are not an employee!\n"
     ]
    }
   ],
   "source": [
    "import pandas as pd\n",
    " \n",
    "df = pd.read_csv(r\"C:\\Users\\Chib\\OneDrive\\Documents\\c.umehCSC102\\Week 7\\jt-ventures.csv\")\n",
    "\n",
    "sname = input(str(\"What is your surname (All caps please!): \"))\n",
    "fname = input(str(\"What is your first name: \"))\n",
    "dept = input(str(\"What is your department: \"))\n",
    "\n",
    "def check (sname, fname, dept):\n",
    "    if sname in df['SURNAME'].values:\n",
    "        if fname in df['FIRST NAME'].values:\n",
    "            matching_rows = df[(df['SURNAME'] == sname) & (df['FIRST NAME'] == fname) & (df['DEPARTMENT'] == dept)]\n",
    "            if not matching_rows.empty:\n",
    "                print(\"You are an employee! Welcome to the database!\")\n",
    "                print(df)\n",
    "            else:\n",
    "                print(\"You are not an employee!\")\n",
    "        else:\n",
    "            print (\"You are not an employee!\")\n",
    "    else:\n",
    "        print (\"You are not an employee!\")\n",
    "\n",
    "check(sname,fname, dept);"
   ]
  },
  {
   "cell_type": "code",
   "execution_count": 17,
   "id": "7c09bbee",
   "metadata": {},
   "outputs": [
    {
     "name": "stdout",
     "output_type": "stream",
     "text": [
      "Welcome to Yega Services!\n",
      "What is your delivery location?: Epe\n",
      "What is the weight of your package?: 20\n",
      "The price of your package is 100000 naira. Thank you!\n"
     ]
    }
   ],
   "source": [
    "location = str(input(\"Welcome to Yega Services!\\nWhat is your delivery location?: \"))\n",
    "weight = int(input(\"What is the weight of your package?: \"))\n",
    "\n",
    "def price (location, weight):\n",
    "    if location == \"Ibeju-Lekki\":\n",
    "        if weight >= 10:\n",
    "            price1 = weight*2000\n",
    "            print (f\"The price of your package is {price1} naira. Thank you!\")\n",
    "        else:\n",
    "            price2 = weight*1500\n",
    "            print (f\"The price of your package is {price2} naira. Thank you!\")\n",
    "    elif location == \"Epe\":\n",
    "        if weight >= 10:\n",
    "            price3 = weight*5000\n",
    "            print (f\"The price of your package is {price3} naira. Thank you!\")\n",
    "        else: \n",
    "            price4 = weight*4000\n",
    "            print (f\"The price of your package is {price4} naira. Thank you!\")\n",
    "    else:\n",
    "        print (\"Sorry, we do not deliver to that location.\")\n",
    "            \n",
    "price (location, weight);\n"
   ]
  },
  {
   "cell_type": "code",
   "execution_count": 30,
   "id": "973dd392",
   "metadata": {},
   "outputs": [
    {
     "name": "stdout",
     "output_type": "stream",
     "text": [
      "What is your full name?: UMEH Chibundum\n",
      "Welcome! What was your JAMB score?:230\n",
      "Please enter your grades for the following subjects:\n",
      "Math:A\n",
      "English: B\n",
      "Physics: C\n",
      "Chemistry: D\n",
      "Computer Science: D\n",
      "Did you pass the interview?: Yes\n"
     ]
    }
   ],
   "source": [
    "import pandas as pd\n",
    "\n",
    "name = str(input(\"What is your full name?: \"))\n",
    "jamb_score = int(input(\"Welcome! What was your JAMB score?:\"))\n",
    "math = str(input(\"Please enter your grades for the following subjects:\\nMath:\"))\n",
    "english = str(input(\"English: \"))\n",
    "physics = str(input(\"Physics: \"))\n",
    "chemistry = str(input(\"Chemistry: \"))\n",
    "comp_sci = str(input(\"Computer Science: \"))\n",
    "interview = str(input(\"Did you pass the interview?: \"))\n",
    "\n",
    "data = {'Name': [name], 'Jamb Score': [jamb_score],\n",
    "       'Math': [math], 'English': [english], 'Physics': [physics],\n",
    "       'Chemistry': [chemistry], 'Comp Sci': [comp_sci],\n",
    "       'Interview': [interview]}\n",
    "df = pd.DataFrame(data)\n",
    "\n",
    "def CSC (jamb_score, math, english, physics, chemistry, comp_sci, interview):\n",
    "    if interview == 'Yes':\n",
    "        df.to_csv('admitted.csv')\n",
    "    else:\n",
    "        df.to_csv('not-admitted.csv')\n",
    "    if jamb_score >=230:\n",
    "        df.to_csv('admitted.csv')\n",
    "    else:\n",
    "        df.to_csv('not-admitted.csv')\n",
    "    if math == 'A' or math == 'B' or math == 'C':\n",
    "        df.to_csv('admitted.csv')\n",
    "    else:\n",
    "        df.to_csv('not-admitted.csv')\n",
    "    if english == 'A' or english == 'B' or english == 'C':\n",
    "        df.to_csv('admitted.csv')\n",
    "    else:\n",
    "        df.to_csv('not-admitted.csv')\n",
    "    if physics == 'A' or physics == 'B' or physics == 'C':\n",
    "        df.to_csv('admitted.csv')\n",
    "    else:\n",
    "        df.to_csv('not-admitted.csv')\n",
    "    if chemistry == 'A' or chemistry == 'B' or chemistry == 'C':\n",
    "        df.to_csv('admitted.csv')\n",
    "    else:\n",
    "        df.to_csv('not-admitted.csv')\n",
    "    if comp_sci == 'A' or comp_sci == 'B' or comp_sci == 'C':\n",
    "        df.to_csv('admitted.csv')\n",
    "    else:\n",
    "        df.to_csv('not-admitted.csv')\n",
    "\n",
    "CSC (jamb_score, math, english, physics, chemistry, comp_sci, interview);\n",
    "    \n",
    "    \n",
    "\n",
    "            \n",
    "                        \n",
    "                        \n",
    "                    \n",
    "                            \n",
    "\n",
    "                                \n",
    "                                \n",
    "                                \n",
    "                                \n",
    "                                "
   ]
  },
  {
   "cell_type": "code",
   "execution_count": null,
   "id": "4c4f1f2d",
   "metadata": {},
   "outputs": [],
   "source": []
  }
 ],
 "metadata": {
  "kernelspec": {
   "display_name": "Python 3 (ipykernel)",
   "language": "python",
   "name": "python3"
  },
  "language_info": {
   "codemirror_mode": {
    "name": "ipython",
    "version": 3
   },
   "file_extension": ".py",
   "mimetype": "text/x-python",
   "name": "python",
   "nbconvert_exporter": "python",
   "pygments_lexer": "ipython3",
   "version": "3.10.9"
  }
 },
 "nbformat": 4,
 "nbformat_minor": 5
}
